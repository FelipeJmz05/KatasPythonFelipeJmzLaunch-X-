{
 "cells": [
  {
   "cell_type": "markdown",
   "metadata": {},
   "source": [
    "Ejercicio - Escribir declaraciones if, else, y elif"
   ]
  },
  {
   "cell_type": "markdown",
   "metadata": {},
   "source": [
    "Las instrucciones If te permiten ejecutar condicionalmente código Python. Se usan comúnmente en Python para \"tomar decisiones\" sobre lo que debería suceder a continuación mientras se ejecuta un programa.\n",
    "\n",
    "Para crear una instrucción if en Python, define una expresión de prueba que pueda tener un valor True o False, seguido de un bloque de código con sangría que se ejecutará si se cumple la condición."
   ]
  },
  {
   "cell_type": "markdown",
   "metadata": {},
   "source": [
    "Para este ejercicio, escribirás una lógica condicional que imprima una advertencia si un asteroide se acerca a la Tierra demasiado rápido. La velocidad del asteroide varía dependiendo de lo cerca que esté del sol, y cualquier velocidad superior a 25 kilómetros por segundo (km/s) merece una advertencia.\n",
    "\n",
    "Un asteroide se acerca, y viaja a una velocidad de 49 km/s."
   ]
  },
  {
   "cell_type": "code",
   "execution_count": 4,
   "metadata": {},
   "outputs": [
    {
     "name": "stdout",
     "output_type": "stream",
     "text": [
      "!!!Alerta¡¡¡, se detecto un asteroide con una velocidad de 49km/s dirigiendose a la tierra\n"
     ]
    }
   ],
   "source": [
    "asteroide = 49\n",
    "if(asteroide > 20):\n",
    "    print(\"¡¡¡Alerta!!!, se detecto un asteroide con una velocidad de \" + str(asteroide) + \"km/s dirigiendose a la tierra\")\n",
    "else:\n",
    "    print(\"Sin ninguna novedad\")"
   ]
  },
  {
   "cell_type": "markdown",
   "metadata": {},
   "source": [
    "Si un asteroide entra en la atmósfera de la Tierra a una velocidad mayor o igual a 20 km/s, a veces produce un rayo de luz que se puede ver desde la Tierra. Escribe la lógica condicional que usa declaraciones if, else, y elif para alertar a las personas de todo el mundo que deben buscar un asteroide en el cielo. ¡Hay uno que se dirige a la tierra ahora a una velocidad de 19 km/s!"
   ]
  },
  {
   "cell_type": "code",
   "execution_count": 8,
   "metadata": {},
   "outputs": [
    {
     "name": "stdout",
     "output_type": "stream",
     "text": [
      "Sin niguna novedad en el cielo\n"
     ]
    }
   ],
   "source": [
    "asteroide = 19\n",
    "if(asteroide > 20):\n",
    "    print(\"Se detecto un asteroide entrando a la atmosfera con una velocidad de \" + str(asteroide) + \"km/s, es posible ver una luz en el cielo\")\n",
    "elif(asteroide == 20):\n",
    "    print(\"Se detecto un asteroide entrando a la atmosfera con una velocidad de \" + str(asteroide) + \"km/s, es posible ver una luz en el cielo\")\n",
    "else:\n",
    "    print(\"Sin niguna novedad en el cielo\")"
   ]
  },
  {
   "cell_type": "markdown",
   "metadata": {},
   "source": [
    "Ejercicio: Uso de operadores and y or"
   ]
  },
  {
   "cell_type": "markdown",
   "metadata": {},
   "source": [
    "En el ejercicio anterior, trabajó con sentencias if, else, y elif para escribir programas con lógica condicional compleja. Para crear expresiones booleanas aún más interesantes, puede usar los operadores and y or en Python.\n",
    "\n",
    "Las expresiones and son sólo si ambas subexpresiones son verdaderas.\n",
    "\n",
    "expresión1 and expresión2\n",
    "\n",
    "Las expresiones or son True si al menos una subexpresión es verdadera.\n",
    "\n",
    "expresión1 or expresión2\n",
    "\n",
    "En este ejercicio, aprenderás información más matizada sobre cuándo los asteroides representan un peligro para la Tierra, y utilizarás esa información para mejorar nuestro sistema de advertencia. Aquí está la nueva información que necesitas saber:\n",
    "\n",
    "*Los asteroides de menos de 25 metros en su dimensión más grande probablemente se quemarán a medida que entren en la atmósfera de la Tierra.\n",
    "\n",
    "Si una pieza de un asteroide que es más grande que 25 metros pero más pequeña que 1000 metros golpeara la Tierra, causaría mucho daño.\n",
    "También discutimos en el ejercicio anterior que:\n",
    "\n",
    "La velocidad del asteroide varía en función de lo cerca que esté del sol, y cualquier velocidad superior a 25 kilómetros por segundo (km/s) merece una advertencia.\n",
    "Si un asteroide entra en la atmósfera de la Tierra a una velocidad mayor o igual a 20 km/s, a veces produce un rayo de luz que se puede ver desde la Tierra.\n",
    "Usando toda esta información, escribe un programa que emita la advertencia o información correcta a la gente de la Tierra, según la velocidad y el tamaño de un asteroide. Utiliza instrucciones if, else, y elif, así como los operadores and y or."
   ]
  },
  {
   "cell_type": "code",
   "execution_count": 5,
   "metadata": {},
   "outputs": [
    {
     "name": "stdout",
     "output_type": "stream",
     "text": [
      "¡¡¡Alerta!!!, Un asteroide muy peligroso viene hacia la Tierra con una velocidad de 25 km/s\n"
     ]
    }
   ],
   "source": [
    "asteroide = 25\n",
    "tamano = 40\n",
    "if (asteroide >= 25 and tamano > 25):\n",
    "    print(\"¡¡¡Alerta!!!, Un asteroide muy peligroso viene hacia la Tierra con una velocidad de \" + str(asteroide) + \" km/s\" )\n",
    "elif (asteroide == 20):\n",
    "    print(\"Se detecto un asteroide entrando a la atmosfera con una velocidad de \" + str(asteroide) + \"km/s, es posible ver una luz en el cielo\")\n",
    "elif (asteroide < 25):\n",
    "    print(\"Sin niguna novedad en el cielo\")\n",
    "else:\n",
    "    print(\"Sin niguna novedad en el cielo\")"
   ]
  }
 ],
 "metadata": {
  "interpreter": {
   "hash": "891b2d67577a20056bc1947dc95d88f424241a7001a477b1456345c48d1fe9f0"
  },
  "kernelspec": {
   "display_name": "Python 3.7.4 ('base')",
   "language": "python",
   "name": "python3"
  },
  "language_info": {
   "codemirror_mode": {
    "name": "ipython",
    "version": 3
   },
   "file_extension": ".py",
   "mimetype": "text/x-python",
   "name": "python",
   "nbconvert_exporter": "python",
   "pygments_lexer": "ipython3",
   "version": "3.7.4"
  },
  "orig_nbformat": 4
 },
 "nbformat": 4,
 "nbformat_minor": 2
}
